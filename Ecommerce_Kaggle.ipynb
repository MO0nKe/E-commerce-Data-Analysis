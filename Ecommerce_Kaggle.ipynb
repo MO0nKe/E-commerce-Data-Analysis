{
 "cells": [
  {
   "cell_type": "code",
   "execution_count": 1,
   "id": "6544f51f",
   "metadata": {
    "_cell_guid": "b1076dfc-b9ad-4769-8c92-a6c4dae69d19",
    "_uuid": "8f2839f25d086af736a60e9eeb907d3b93b6e0e5",
    "execution": {
     "iopub.execute_input": "2023-04-02T17:00:05.562493Z",
     "iopub.status.busy": "2023-04-02T17:00:05.561913Z",
     "iopub.status.idle": "2023-04-02T17:00:05.576482Z",
     "shell.execute_reply": "2023-04-02T17:00:05.574867Z"
    },
    "papermill": {
     "duration": 0.03118,
     "end_time": "2023-04-02T17:00:05.579360",
     "exception": false,
     "start_time": "2023-04-02T17:00:05.548180",
     "status": "completed"
    },
    "tags": []
   },
   "outputs": [
    {
     "name": "stdout",
     "output_type": "stream",
     "text": [
      "/kaggle/input/e-commerce-shoppers-behaviour-understanding/test_data_v2.csv\n",
      "/kaggle/input/e-commerce-shoppers-behaviour-understanding/train_data_v2.csv\n",
      "/kaggle/input/e-commerce-shoppers-behaviour-understanding/sample.csv\n"
     ]
    }
   ],
   "source": [
    "# This Python 3 environment comes with many helpful analytics libraries installed\n",
    "# It is defined by the kaggle/python Docker image: https://github.com/kaggle/docker-python\n",
    "# For example, here's several helpful packages to load\n",
    "\n",
    "import numpy as np # linear algebra\n",
    "import pandas as pd # data processing, CSV file I/O (e.g. pd.read_csv)\n",
    "\n",
    "# Input data files are available in the read-only \"../input/\" directory\n",
    "# For example, running this (by clicking run or pressing Shift+Enter) will list all files under the input directory\n",
    "\n",
    "import os\n",
    "for dirname, _, filenames in os.walk('/kaggle/input'):\n",
    "    for filename in filenames:\n",
    "        print(os.path.join(dirname, filename))\n",
    "\n",
    "# You can write up to 20GB to the current directory (/kaggle/working/) that gets preserved as output when you create a version using \"Save & Run All\" \n",
    "# You can also write temporary files to /kaggle/temp/, but they won't be saved outside of the current session"
   ]
  },
  {
   "cell_type": "code",
   "execution_count": 2,
   "id": "a6f8d6fd",
   "metadata": {
    "execution": {
     "iopub.execute_input": "2023-04-02T17:00:05.604126Z",
     "iopub.status.busy": "2023-04-02T17:00:05.603726Z",
     "iopub.status.idle": "2023-04-02T17:00:06.766139Z",
     "shell.execute_reply": "2023-04-02T17:00:06.764781Z"
    },
    "papermill": {
     "duration": 1.178993,
     "end_time": "2023-04-02T17:00:06.769115",
     "exception": false,
     "start_time": "2023-04-02T17:00:05.590122",
     "status": "completed"
    },
    "tags": []
   },
   "outputs": [],
   "source": [
    "import matplotlib.pyplot as plt\n",
    "import seaborn as sns"
   ]
  },
  {
   "cell_type": "markdown",
   "id": "0069b324",
   "metadata": {
    "papermill": {
     "duration": 0.010145,
     "end_time": "2023-04-02T17:00:06.789883",
     "exception": false,
     "start_time": "2023-04-02T17:00:06.779738",
     "status": "completed"
    },
    "tags": []
   },
   "source": [
    "# Loading the Dataset"
   ]
  },
  {
   "cell_type": "code",
   "execution_count": 3,
   "id": "f96a3dc8",
   "metadata": {
    "execution": {
     "iopub.execute_input": "2023-04-02T17:00:06.812487Z",
     "iopub.status.busy": "2023-04-02T17:00:06.812081Z",
     "iopub.status.idle": "2023-04-02T17:00:06.956081Z",
     "shell.execute_reply": "2023-04-02T17:00:06.954708Z"
    },
    "papermill": {
     "duration": 0.158704,
     "end_time": "2023-04-02T17:00:06.959016",
     "exception": false,
     "start_time": "2023-04-02T17:00:06.800312",
     "status": "completed"
    },
    "tags": []
   },
   "outputs": [],
   "source": [
    "test = pd.read_csv('/kaggle/input/e-commerce-shoppers-behaviour-understanding/test_data_v2.csv')\n",
    "train = pd.read_csv('/kaggle/input/e-commerce-shoppers-behaviour-understanding/train_data_v2.csv')                   "
   ]
  },
  {
   "cell_type": "code",
   "execution_count": 4,
   "id": "9a0e94fe",
   "metadata": {
    "execution": {
     "iopub.execute_input": "2023-04-02T17:00:06.982571Z",
     "iopub.status.busy": "2023-04-02T17:00:06.981883Z",
     "iopub.status.idle": "2023-04-02T17:00:07.022902Z",
     "shell.execute_reply": "2023-04-02T17:00:07.021885Z"
    },
    "papermill": {
     "duration": 0.055116,
     "end_time": "2023-04-02T17:00:07.024922",
     "exception": false,
     "start_time": "2023-04-02T17:00:06.969806",
     "status": "completed"
    },
    "tags": []
   },
   "outputs": [
    {
     "data": {
      "text/html": [
       "<div>\n",
       "<style scoped>\n",
       "    .dataframe tbody tr th:only-of-type {\n",
       "        vertical-align: middle;\n",
       "    }\n",
       "\n",
       "    .dataframe tbody tr th {\n",
       "        vertical-align: top;\n",
       "    }\n",
       "\n",
       "    .dataframe thead th {\n",
       "        text-align: right;\n",
       "    }\n",
       "</style>\n",
       "<table border=\"1\" class=\"dataframe\">\n",
       "  <thead>\n",
       "    <tr style=\"text-align: right;\">\n",
       "      <th></th>\n",
       "      <th>HomePage</th>\n",
       "      <th>HomePage_Duration</th>\n",
       "      <th>LandingPage</th>\n",
       "      <th>LandingPage_Duration</th>\n",
       "      <th>ProductDescriptionPage</th>\n",
       "      <th>ProductDescriptionPage_Duration</th>\n",
       "      <th>GoogleMetric:Bounce Rates</th>\n",
       "      <th>GoogleMetric:Exit Rates</th>\n",
       "      <th>GoogleMetric:Page Values</th>\n",
       "      <th>SeasonalPurchase</th>\n",
       "      <th>...</th>\n",
       "      <th>SearchEngine</th>\n",
       "      <th>Zone</th>\n",
       "      <th>Type of Traffic</th>\n",
       "      <th>CustomerType</th>\n",
       "      <th>Gender</th>\n",
       "      <th>Cookies Setting</th>\n",
       "      <th>Education</th>\n",
       "      <th>Marital Status</th>\n",
       "      <th>WeekendPurchase</th>\n",
       "      <th>Made_Purchase</th>\n",
       "    </tr>\n",
       "  </thead>\n",
       "  <tbody>\n",
       "    <tr>\n",
       "      <th>0</th>\n",
       "      <td>0.0</td>\n",
       "      <td>0.0</td>\n",
       "      <td>0.0</td>\n",
       "      <td>0.0</td>\n",
       "      <td>1.0</td>\n",
       "      <td>0.000000</td>\n",
       "      <td>0.20</td>\n",
       "      <td>0.20</td>\n",
       "      <td>0.0</td>\n",
       "      <td>0.0</td>\n",
       "      <td>...</td>\n",
       "      <td>1.0</td>\n",
       "      <td>9.0</td>\n",
       "      <td>3.0</td>\n",
       "      <td>Returning_Visitor</td>\n",
       "      <td>Not Specified</td>\n",
       "      <td>Deny</td>\n",
       "      <td>Not Specified</td>\n",
       "      <td>Other</td>\n",
       "      <td>0.0</td>\n",
       "      <td>False</td>\n",
       "    </tr>\n",
       "    <tr>\n",
       "      <th>1</th>\n",
       "      <td>0.0</td>\n",
       "      <td>0.0</td>\n",
       "      <td>0.0</td>\n",
       "      <td>0.0</td>\n",
       "      <td>2.0</td>\n",
       "      <td>2.666667</td>\n",
       "      <td>0.05</td>\n",
       "      <td>0.14</td>\n",
       "      <td>0.0</td>\n",
       "      <td>0.0</td>\n",
       "      <td>...</td>\n",
       "      <td>2.0</td>\n",
       "      <td>2.0</td>\n",
       "      <td>4.0</td>\n",
       "      <td>Returning_Visitor</td>\n",
       "      <td>Female</td>\n",
       "      <td>Deny</td>\n",
       "      <td>Others</td>\n",
       "      <td>Married</td>\n",
       "      <td>0.0</td>\n",
       "      <td>False</td>\n",
       "    </tr>\n",
       "    <tr>\n",
       "      <th>2</th>\n",
       "      <td>0.0</td>\n",
       "      <td>0.0</td>\n",
       "      <td>0.0</td>\n",
       "      <td>0.0</td>\n",
       "      <td>10.0</td>\n",
       "      <td>627.500000</td>\n",
       "      <td>0.02</td>\n",
       "      <td>0.05</td>\n",
       "      <td>0.0</td>\n",
       "      <td>0.0</td>\n",
       "      <td>...</td>\n",
       "      <td>3.0</td>\n",
       "      <td>1.0</td>\n",
       "      <td>4.0</td>\n",
       "      <td>Returning_Visitor</td>\n",
       "      <td>Female</td>\n",
       "      <td>ALL</td>\n",
       "      <td>Others</td>\n",
       "      <td>Married</td>\n",
       "      <td>1.0</td>\n",
       "      <td>False</td>\n",
       "    </tr>\n",
       "    <tr>\n",
       "      <th>3</th>\n",
       "      <td>0.0</td>\n",
       "      <td>0.0</td>\n",
       "      <td>0.0</td>\n",
       "      <td>0.0</td>\n",
       "      <td>1.0</td>\n",
       "      <td>0.000000</td>\n",
       "      <td>0.20</td>\n",
       "      <td>0.20</td>\n",
       "      <td>0.0</td>\n",
       "      <td>0.4</td>\n",
       "      <td>...</td>\n",
       "      <td>4.0</td>\n",
       "      <td>3.0</td>\n",
       "      <td>3.0</td>\n",
       "      <td>Returning_Visitor</td>\n",
       "      <td>Male</td>\n",
       "      <td>ALL</td>\n",
       "      <td>Diploma</td>\n",
       "      <td>Single</td>\n",
       "      <td>0.0</td>\n",
       "      <td>False</td>\n",
       "    </tr>\n",
       "    <tr>\n",
       "      <th>4</th>\n",
       "      <td>1.0</td>\n",
       "      <td>0.0</td>\n",
       "      <td>0.0</td>\n",
       "      <td>0.0</td>\n",
       "      <td>0.0</td>\n",
       "      <td>0.000000</td>\n",
       "      <td>0.20</td>\n",
       "      <td>0.20</td>\n",
       "      <td>0.0</td>\n",
       "      <td>0.0</td>\n",
       "      <td>...</td>\n",
       "      <td>2.0</td>\n",
       "      <td>1.0</td>\n",
       "      <td>5.0</td>\n",
       "      <td>Returning_Visitor</td>\n",
       "      <td>Male</td>\n",
       "      <td>Deny</td>\n",
       "      <td>Diploma</td>\n",
       "      <td>Other</td>\n",
       "      <td>1.0</td>\n",
       "      <td>False</td>\n",
       "    </tr>\n",
       "  </tbody>\n",
       "</table>\n",
       "<p>5 rows × 22 columns</p>\n",
       "</div>"
      ],
      "text/plain": [
       "   HomePage  HomePage_Duration  LandingPage  LandingPage_Duration  \\\n",
       "0       0.0                0.0          0.0                   0.0   \n",
       "1       0.0                0.0          0.0                   0.0   \n",
       "2       0.0                0.0          0.0                   0.0   \n",
       "3       0.0                0.0          0.0                   0.0   \n",
       "4       1.0                0.0          0.0                   0.0   \n",
       "\n",
       "   ProductDescriptionPage  ProductDescriptionPage_Duration  \\\n",
       "0                     1.0                         0.000000   \n",
       "1                     2.0                         2.666667   \n",
       "2                    10.0                       627.500000   \n",
       "3                     1.0                         0.000000   \n",
       "4                     0.0                         0.000000   \n",
       "\n",
       "   GoogleMetric:Bounce Rates  GoogleMetric:Exit Rates  \\\n",
       "0                       0.20                     0.20   \n",
       "1                       0.05                     0.14   \n",
       "2                       0.02                     0.05   \n",
       "3                       0.20                     0.20   \n",
       "4                       0.20                     0.20   \n",
       "\n",
       "   GoogleMetric:Page Values  SeasonalPurchase  ... SearchEngine  Zone  \\\n",
       "0                       0.0               0.0  ...          1.0   9.0   \n",
       "1                       0.0               0.0  ...          2.0   2.0   \n",
       "2                       0.0               0.0  ...          3.0   1.0   \n",
       "3                       0.0               0.4  ...          4.0   3.0   \n",
       "4                       0.0               0.0  ...          2.0   1.0   \n",
       "\n",
       "   Type of Traffic       CustomerType         Gender Cookies Setting  \\\n",
       "0              3.0  Returning_Visitor  Not Specified            Deny   \n",
       "1              4.0  Returning_Visitor         Female            Deny   \n",
       "2              4.0  Returning_Visitor         Female             ALL   \n",
       "3              3.0  Returning_Visitor           Male             ALL   \n",
       "4              5.0  Returning_Visitor           Male            Deny   \n",
       "\n",
       "       Education Marital Status WeekendPurchase Made_Purchase  \n",
       "0  Not Specified          Other             0.0         False  \n",
       "1         Others        Married             0.0         False  \n",
       "2         Others        Married             1.0         False  \n",
       "3        Diploma         Single             0.0         False  \n",
       "4        Diploma          Other             1.0         False  \n",
       "\n",
       "[5 rows x 22 columns]"
      ]
     },
     "execution_count": 4,
     "metadata": {},
     "output_type": "execute_result"
    }
   ],
   "source": [
    "train.head()"
   ]
  },
  {
   "cell_type": "code",
   "execution_count": 5,
   "id": "1cb19421",
   "metadata": {
    "execution": {
     "iopub.execute_input": "2023-04-02T17:00:07.049707Z",
     "iopub.status.busy": "2023-04-02T17:00:07.049223Z",
     "iopub.status.idle": "2023-04-02T17:00:07.057513Z",
     "shell.execute_reply": "2023-04-02T17:00:07.056261Z"
    },
    "papermill": {
     "duration": 0.023948,
     "end_time": "2023-04-02T17:00:07.059802",
     "exception": false,
     "start_time": "2023-04-02T17:00:07.035854",
     "status": "completed"
    },
    "tags": []
   },
   "outputs": [
    {
     "data": {
      "text/plain": [
       "\"\\ntrain['Visited_HomePage'] = ((train['HomePage'] > 0) | (train['HomePage_Duration']>0)).astype(int)\\ntest['Visited_HomePage'] = ((test['HomePage'] > 0) | (test['HomePage_Duration']>0)).astype(int)\\ntrain.drop(columns=['HomePage','HomePage_Duration'], inplace=True)\\ntest.drop(columns=['HomePage', 'HomePage_Duration'], inplace=True)\\n\\ntrain['Visited_LandingPage'] = ((train['LandingPage'] > 0) | (train['LandingPage_Duration']>0)).astype(int)\\ntest['Visited_LandingPage'] = ((test['LandingPage'] > 0) | (test['LandingPage_Duration']>0)).astype(int)\\ntrain.drop(columns=['LandingPage','LandingPage_Duration'], inplace=True)\\ntest.drop(columns=['LandingPage','LandingPage_Duration'], inplace=True)\\n\\ntrain['Bounced'] = (train['GoogleMetric:Bounce Rates']>0).astype(int)\\ntrain.drop(columns='GoogleMetric:Bounce Rates',inplace=True)\\n\\ntest['Bounced'] = (test['GoogleMetric:Bounce Rates']>0).astype(int)\\ntest.drop(columns='GoogleMetric:Bounce Rates',inplace=True)\\n\""
      ]
     },
     "execution_count": 5,
     "metadata": {},
     "output_type": "execute_result"
    }
   ],
   "source": [
    "\"\"\"\n",
    "train['Visited_HomePage'] = ((train['HomePage'] > 0) | (train['HomePage_Duration']>0)).astype(int)\n",
    "test['Visited_HomePage'] = ((test['HomePage'] > 0) | (test['HomePage_Duration']>0)).astype(int)\n",
    "train.drop(columns=['HomePage','HomePage_Duration'], inplace=True)\n",
    "test.drop(columns=['HomePage', 'HomePage_Duration'], inplace=True)\n",
    "\n",
    "train['Visited_LandingPage'] = ((train['LandingPage'] > 0) | (train['LandingPage_Duration']>0)).astype(int)\n",
    "test['Visited_LandingPage'] = ((test['LandingPage'] > 0) | (test['LandingPage_Duration']>0)).astype(int)\n",
    "train.drop(columns=['LandingPage','LandingPage_Duration'], inplace=True)\n",
    "test.drop(columns=['LandingPage','LandingPage_Duration'], inplace=True)\n",
    "\n",
    "train['Bounced'] = (train['GoogleMetric:Bounce Rates']>0).astype(int)\n",
    "train.drop(columns='GoogleMetric:Bounce Rates',inplace=True)\n",
    "\n",
    "test['Bounced'] = (test['GoogleMetric:Bounce Rates']>0).astype(int)\n",
    "test.drop(columns='GoogleMetric:Bounce Rates',inplace=True)\n",
    "\"\"\""
   ]
  },
  {
   "cell_type": "code",
   "execution_count": 6,
   "id": "249cf0ce",
   "metadata": {
    "execution": {
     "iopub.execute_input": "2023-04-02T17:00:07.083694Z",
     "iopub.status.busy": "2023-04-02T17:00:07.083245Z",
     "iopub.status.idle": "2023-04-02T17:00:07.114873Z",
     "shell.execute_reply": "2023-04-02T17:00:07.113525Z"
    },
    "papermill": {
     "duration": 0.046923,
     "end_time": "2023-04-02T17:00:07.117662",
     "exception": false,
     "start_time": "2023-04-02T17:00:07.070739",
     "status": "completed"
    },
    "tags": []
   },
   "outputs": [
    {
     "data": {
      "text/html": [
       "<div>\n",
       "<style scoped>\n",
       "    .dataframe tbody tr th:only-of-type {\n",
       "        vertical-align: middle;\n",
       "    }\n",
       "\n",
       "    .dataframe tbody tr th {\n",
       "        vertical-align: top;\n",
       "    }\n",
       "\n",
       "    .dataframe thead th {\n",
       "        text-align: right;\n",
       "    }\n",
       "</style>\n",
       "<table border=\"1\" class=\"dataframe\">\n",
       "  <thead>\n",
       "    <tr style=\"text-align: right;\">\n",
       "      <th></th>\n",
       "      <th>HomePage</th>\n",
       "      <th>HomePage_Duration</th>\n",
       "      <th>LandingPage</th>\n",
       "      <th>LandingPage_Duration</th>\n",
       "      <th>ProductDescriptionPage</th>\n",
       "      <th>ProductDescriptionPage_Duration</th>\n",
       "      <th>GoogleMetric:Bounce Rates</th>\n",
       "      <th>GoogleMetric:Exit Rates</th>\n",
       "      <th>GoogleMetric:Page Values</th>\n",
       "      <th>SeasonalPurchase</th>\n",
       "      <th>...</th>\n",
       "      <th>SearchEngine</th>\n",
       "      <th>Zone</th>\n",
       "      <th>Type of Traffic</th>\n",
       "      <th>CustomerType</th>\n",
       "      <th>Gender</th>\n",
       "      <th>Cookies Setting</th>\n",
       "      <th>Education</th>\n",
       "      <th>Marital Status</th>\n",
       "      <th>WeekendPurchase</th>\n",
       "      <th>Made_Purchase</th>\n",
       "    </tr>\n",
       "  </thead>\n",
       "  <tbody>\n",
       "    <tr>\n",
       "      <th>0</th>\n",
       "      <td>0.0</td>\n",
       "      <td>0.0</td>\n",
       "      <td>0.0</td>\n",
       "      <td>0.0</td>\n",
       "      <td>1.0</td>\n",
       "      <td>0.000000</td>\n",
       "      <td>0.20</td>\n",
       "      <td>0.20</td>\n",
       "      <td>0.0</td>\n",
       "      <td>0.0</td>\n",
       "      <td>...</td>\n",
       "      <td>1.0</td>\n",
       "      <td>9.0</td>\n",
       "      <td>3.0</td>\n",
       "      <td>Returning_Visitor</td>\n",
       "      <td>Not Specified</td>\n",
       "      <td>Deny</td>\n",
       "      <td>Not Specified</td>\n",
       "      <td>Other</td>\n",
       "      <td>0.0</td>\n",
       "      <td>False</td>\n",
       "    </tr>\n",
       "    <tr>\n",
       "      <th>1</th>\n",
       "      <td>0.0</td>\n",
       "      <td>0.0</td>\n",
       "      <td>0.0</td>\n",
       "      <td>0.0</td>\n",
       "      <td>2.0</td>\n",
       "      <td>2.666667</td>\n",
       "      <td>0.05</td>\n",
       "      <td>0.14</td>\n",
       "      <td>0.0</td>\n",
       "      <td>0.0</td>\n",
       "      <td>...</td>\n",
       "      <td>2.0</td>\n",
       "      <td>2.0</td>\n",
       "      <td>4.0</td>\n",
       "      <td>Returning_Visitor</td>\n",
       "      <td>Female</td>\n",
       "      <td>Deny</td>\n",
       "      <td>Others</td>\n",
       "      <td>Married</td>\n",
       "      <td>0.0</td>\n",
       "      <td>False</td>\n",
       "    </tr>\n",
       "    <tr>\n",
       "      <th>2</th>\n",
       "      <td>0.0</td>\n",
       "      <td>0.0</td>\n",
       "      <td>0.0</td>\n",
       "      <td>0.0</td>\n",
       "      <td>10.0</td>\n",
       "      <td>627.500000</td>\n",
       "      <td>0.02</td>\n",
       "      <td>0.05</td>\n",
       "      <td>0.0</td>\n",
       "      <td>0.0</td>\n",
       "      <td>...</td>\n",
       "      <td>3.0</td>\n",
       "      <td>1.0</td>\n",
       "      <td>4.0</td>\n",
       "      <td>Returning_Visitor</td>\n",
       "      <td>Female</td>\n",
       "      <td>ALL</td>\n",
       "      <td>Others</td>\n",
       "      <td>Married</td>\n",
       "      <td>1.0</td>\n",
       "      <td>False</td>\n",
       "    </tr>\n",
       "    <tr>\n",
       "      <th>3</th>\n",
       "      <td>0.0</td>\n",
       "      <td>0.0</td>\n",
       "      <td>0.0</td>\n",
       "      <td>0.0</td>\n",
       "      <td>1.0</td>\n",
       "      <td>0.000000</td>\n",
       "      <td>0.20</td>\n",
       "      <td>0.20</td>\n",
       "      <td>0.0</td>\n",
       "      <td>0.4</td>\n",
       "      <td>...</td>\n",
       "      <td>4.0</td>\n",
       "      <td>3.0</td>\n",
       "      <td>3.0</td>\n",
       "      <td>Returning_Visitor</td>\n",
       "      <td>Male</td>\n",
       "      <td>ALL</td>\n",
       "      <td>Diploma</td>\n",
       "      <td>Single</td>\n",
       "      <td>0.0</td>\n",
       "      <td>False</td>\n",
       "    </tr>\n",
       "    <tr>\n",
       "      <th>4</th>\n",
       "      <td>1.0</td>\n",
       "      <td>0.0</td>\n",
       "      <td>0.0</td>\n",
       "      <td>0.0</td>\n",
       "      <td>0.0</td>\n",
       "      <td>0.000000</td>\n",
       "      <td>0.20</td>\n",
       "      <td>0.20</td>\n",
       "      <td>0.0</td>\n",
       "      <td>0.0</td>\n",
       "      <td>...</td>\n",
       "      <td>2.0</td>\n",
       "      <td>1.0</td>\n",
       "      <td>5.0</td>\n",
       "      <td>Returning_Visitor</td>\n",
       "      <td>Male</td>\n",
       "      <td>Deny</td>\n",
       "      <td>Diploma</td>\n",
       "      <td>Other</td>\n",
       "      <td>1.0</td>\n",
       "      <td>False</td>\n",
       "    </tr>\n",
       "  </tbody>\n",
       "</table>\n",
       "<p>5 rows × 22 columns</p>\n",
       "</div>"
      ],
      "text/plain": [
       "   HomePage  HomePage_Duration  LandingPage  LandingPage_Duration  \\\n",
       "0       0.0                0.0          0.0                   0.0   \n",
       "1       0.0                0.0          0.0                   0.0   \n",
       "2       0.0                0.0          0.0                   0.0   \n",
       "3       0.0                0.0          0.0                   0.0   \n",
       "4       1.0                0.0          0.0                   0.0   \n",
       "\n",
       "   ProductDescriptionPage  ProductDescriptionPage_Duration  \\\n",
       "0                     1.0                         0.000000   \n",
       "1                     2.0                         2.666667   \n",
       "2                    10.0                       627.500000   \n",
       "3                     1.0                         0.000000   \n",
       "4                     0.0                         0.000000   \n",
       "\n",
       "   GoogleMetric:Bounce Rates  GoogleMetric:Exit Rates  \\\n",
       "0                       0.20                     0.20   \n",
       "1                       0.05                     0.14   \n",
       "2                       0.02                     0.05   \n",
       "3                       0.20                     0.20   \n",
       "4                       0.20                     0.20   \n",
       "\n",
       "   GoogleMetric:Page Values  SeasonalPurchase  ... SearchEngine  Zone  \\\n",
       "0                       0.0               0.0  ...          1.0   9.0   \n",
       "1                       0.0               0.0  ...          2.0   2.0   \n",
       "2                       0.0               0.0  ...          3.0   1.0   \n",
       "3                       0.0               0.4  ...          4.0   3.0   \n",
       "4                       0.0               0.0  ...          2.0   1.0   \n",
       "\n",
       "   Type of Traffic       CustomerType         Gender Cookies Setting  \\\n",
       "0              3.0  Returning_Visitor  Not Specified            Deny   \n",
       "1              4.0  Returning_Visitor         Female            Deny   \n",
       "2              4.0  Returning_Visitor         Female             ALL   \n",
       "3              3.0  Returning_Visitor           Male             ALL   \n",
       "4              5.0  Returning_Visitor           Male            Deny   \n",
       "\n",
       "       Education Marital Status WeekendPurchase Made_Purchase  \n",
       "0  Not Specified          Other             0.0         False  \n",
       "1         Others        Married             0.0         False  \n",
       "2         Others        Married             1.0         False  \n",
       "3        Diploma         Single             0.0         False  \n",
       "4        Diploma          Other             1.0         False  \n",
       "\n",
       "[5 rows x 22 columns]"
      ]
     },
     "execution_count": 6,
     "metadata": {},
     "output_type": "execute_result"
    }
   ],
   "source": [
    "train.head()"
   ]
  },
  {
   "cell_type": "code",
   "execution_count": 7,
   "id": "00643b3f",
   "metadata": {
    "execution": {
     "iopub.execute_input": "2023-04-02T17:00:07.143378Z",
     "iopub.status.busy": "2023-04-02T17:00:07.142847Z",
     "iopub.status.idle": "2023-04-02T17:00:07.156994Z",
     "shell.execute_reply": "2023-04-02T17:00:07.155445Z"
    },
    "papermill": {
     "duration": 0.030131,
     "end_time": "2023-04-02T17:00:07.159452",
     "exception": false,
     "start_time": "2023-04-02T17:00:07.129321",
     "status": "completed"
    },
    "tags": []
   },
   "outputs": [],
   "source": [
    "data = train.drop(columns='Made_Purchase')\n",
    "labels = train['Made_Purchase']"
   ]
  },
  {
   "cell_type": "code",
   "execution_count": 8,
   "id": "a44e6890",
   "metadata": {
    "execution": {
     "iopub.execute_input": "2023-04-02T17:00:07.185345Z",
     "iopub.status.busy": "2023-04-02T17:00:07.184924Z",
     "iopub.status.idle": "2023-04-02T17:00:07.263208Z",
     "shell.execute_reply": "2023-04-02T17:00:07.261997Z"
    },
    "papermill": {
     "duration": 0.095012,
     "end_time": "2023-04-02T17:00:07.266022",
     "exception": false,
     "start_time": "2023-04-02T17:00:07.171010",
     "status": "completed"
    },
    "tags": []
   },
   "outputs": [
    {
     "data": {
      "text/html": [
       "<div>\n",
       "<style scoped>\n",
       "    .dataframe tbody tr th:only-of-type {\n",
       "        vertical-align: middle;\n",
       "    }\n",
       "\n",
       "    .dataframe tbody tr th {\n",
       "        vertical-align: top;\n",
       "    }\n",
       "\n",
       "    .dataframe thead th {\n",
       "        text-align: right;\n",
       "    }\n",
       "</style>\n",
       "<table border=\"1\" class=\"dataframe\">\n",
       "  <thead>\n",
       "    <tr style=\"text-align: right;\">\n",
       "      <th></th>\n",
       "      <th>HomePage</th>\n",
       "      <th>HomePage_Duration</th>\n",
       "      <th>LandingPage</th>\n",
       "      <th>LandingPage_Duration</th>\n",
       "      <th>ProductDescriptionPage</th>\n",
       "      <th>ProductDescriptionPage_Duration</th>\n",
       "      <th>GoogleMetric:Bounce Rates</th>\n",
       "      <th>GoogleMetric:Exit Rates</th>\n",
       "      <th>GoogleMetric:Page Values</th>\n",
       "      <th>SeasonalPurchase</th>\n",
       "      <th>OS</th>\n",
       "      <th>SearchEngine</th>\n",
       "      <th>Zone</th>\n",
       "      <th>Type of Traffic</th>\n",
       "      <th>WeekendPurchase</th>\n",
       "    </tr>\n",
       "  </thead>\n",
       "  <tbody>\n",
       "    <tr>\n",
       "      <th>count</th>\n",
       "      <td>14578.000000</td>\n",
       "      <td>14581.000000</td>\n",
       "      <td>14578.000000</td>\n",
       "      <td>14596.000000</td>\n",
       "      <td>14608.000000</td>\n",
       "      <td>14564.000000</td>\n",
       "      <td>14580.000000</td>\n",
       "      <td>14602.000000</td>\n",
       "      <td>14599.000000</td>\n",
       "      <td>14581.000000</td>\n",
       "      <td>14597.000000</td>\n",
       "      <td>14609.000000</td>\n",
       "      <td>14614.000000</td>\n",
       "      <td>14588.000000</td>\n",
       "      <td>14610.000000</td>\n",
       "    </tr>\n",
       "    <tr>\n",
       "      <th>mean</th>\n",
       "      <td>2.250240</td>\n",
       "      <td>79.300762</td>\n",
       "      <td>0.490739</td>\n",
       "      <td>33.455943</td>\n",
       "      <td>31.559488</td>\n",
       "      <td>1184.346084</td>\n",
       "      <td>0.023366</td>\n",
       "      <td>0.044664</td>\n",
       "      <td>4.812620</td>\n",
       "      <td>0.064083</td>\n",
       "      <td>2.122422</td>\n",
       "      <td>2.356629</td>\n",
       "      <td>3.155673</td>\n",
       "      <td>4.090143</td>\n",
       "      <td>0.234155</td>\n",
       "    </tr>\n",
       "    <tr>\n",
       "      <th>std</th>\n",
       "      <td>3.288042</td>\n",
       "      <td>179.374699</td>\n",
       "      <td>1.252376</td>\n",
       "      <td>140.146256</td>\n",
       "      <td>44.897089</td>\n",
       "      <td>2009.496307</td>\n",
       "      <td>0.050011</td>\n",
       "      <td>0.049912</td>\n",
       "      <td>16.887366</td>\n",
       "      <td>0.202583</td>\n",
       "      <td>0.914404</td>\n",
       "      <td>1.721823</td>\n",
       "      <td>2.405155</td>\n",
       "      <td>4.040147</td>\n",
       "      <td>0.423484</td>\n",
       "    </tr>\n",
       "    <tr>\n",
       "      <th>min</th>\n",
       "      <td>0.000000</td>\n",
       "      <td>0.000000</td>\n",
       "      <td>0.000000</td>\n",
       "      <td>0.000000</td>\n",
       "      <td>0.000000</td>\n",
       "      <td>0.000000</td>\n",
       "      <td>0.000000</td>\n",
       "      <td>0.000000</td>\n",
       "      <td>0.000000</td>\n",
       "      <td>0.000000</td>\n",
       "      <td>1.000000</td>\n",
       "      <td>1.000000</td>\n",
       "      <td>1.000000</td>\n",
       "      <td>1.000000</td>\n",
       "      <td>0.000000</td>\n",
       "    </tr>\n",
       "    <tr>\n",
       "      <th>25%</th>\n",
       "      <td>0.000000</td>\n",
       "      <td>0.000000</td>\n",
       "      <td>0.000000</td>\n",
       "      <td>0.000000</td>\n",
       "      <td>7.000000</td>\n",
       "      <td>173.187500</td>\n",
       "      <td>0.000000</td>\n",
       "      <td>0.014502</td>\n",
       "      <td>0.000000</td>\n",
       "      <td>0.000000</td>\n",
       "      <td>2.000000</td>\n",
       "      <td>2.000000</td>\n",
       "      <td>1.000000</td>\n",
       "      <td>2.000000</td>\n",
       "      <td>0.000000</td>\n",
       "    </tr>\n",
       "    <tr>\n",
       "      <th>50%</th>\n",
       "      <td>1.000000</td>\n",
       "      <td>5.000000</td>\n",
       "      <td>0.000000</td>\n",
       "      <td>0.000000</td>\n",
       "      <td>17.500000</td>\n",
       "      <td>584.333333</td>\n",
       "      <td>0.003478</td>\n",
       "      <td>0.026406</td>\n",
       "      <td>0.000000</td>\n",
       "      <td>0.000000</td>\n",
       "      <td>2.000000</td>\n",
       "      <td>2.000000</td>\n",
       "      <td>3.000000</td>\n",
       "      <td>2.000000</td>\n",
       "      <td>0.000000</td>\n",
       "    </tr>\n",
       "    <tr>\n",
       "      <th>75%</th>\n",
       "      <td>3.000000</td>\n",
       "      <td>91.000000</td>\n",
       "      <td>0.000000</td>\n",
       "      <td>0.000000</td>\n",
       "      <td>38.000000</td>\n",
       "      <td>1434.255128</td>\n",
       "      <td>0.018182</td>\n",
       "      <td>0.050000</td>\n",
       "      <td>0.000000</td>\n",
       "      <td>0.000000</td>\n",
       "      <td>3.000000</td>\n",
       "      <td>2.000000</td>\n",
       "      <td>4.000000</td>\n",
       "      <td>4.000000</td>\n",
       "      <td>0.000000</td>\n",
       "    </tr>\n",
       "    <tr>\n",
       "      <th>max</th>\n",
       "      <td>27.000000</td>\n",
       "      <td>3398.750000</td>\n",
       "      <td>24.000000</td>\n",
       "      <td>2549.375000</td>\n",
       "      <td>705.000000</td>\n",
       "      <td>63973.522230</td>\n",
       "      <td>0.200000</td>\n",
       "      <td>0.200000</td>\n",
       "      <td>361.763742</td>\n",
       "      <td>1.000000</td>\n",
       "      <td>8.000000</td>\n",
       "      <td>13.000000</td>\n",
       "      <td>9.000000</td>\n",
       "      <td>20.000000</td>\n",
       "      <td>1.000000</td>\n",
       "    </tr>\n",
       "  </tbody>\n",
       "</table>\n",
       "</div>"
      ],
      "text/plain": [
       "           HomePage  HomePage_Duration   LandingPage  LandingPage_Duration  \\\n",
       "count  14578.000000       14581.000000  14578.000000          14596.000000   \n",
       "mean       2.250240          79.300762      0.490739             33.455943   \n",
       "std        3.288042         179.374699      1.252376            140.146256   \n",
       "min        0.000000           0.000000      0.000000              0.000000   \n",
       "25%        0.000000           0.000000      0.000000              0.000000   \n",
       "50%        1.000000           5.000000      0.000000              0.000000   \n",
       "75%        3.000000          91.000000      0.000000              0.000000   \n",
       "max       27.000000        3398.750000     24.000000           2549.375000   \n",
       "\n",
       "       ProductDescriptionPage  ProductDescriptionPage_Duration  \\\n",
       "count            14608.000000                     14564.000000   \n",
       "mean                31.559488                      1184.346084   \n",
       "std                 44.897089                      2009.496307   \n",
       "min                  0.000000                         0.000000   \n",
       "25%                  7.000000                       173.187500   \n",
       "50%                 17.500000                       584.333333   \n",
       "75%                 38.000000                      1434.255128   \n",
       "max                705.000000                     63973.522230   \n",
       "\n",
       "       GoogleMetric:Bounce Rates  GoogleMetric:Exit Rates  \\\n",
       "count               14580.000000             14602.000000   \n",
       "mean                    0.023366                 0.044664   \n",
       "std                     0.050011                 0.049912   \n",
       "min                     0.000000                 0.000000   \n",
       "25%                     0.000000                 0.014502   \n",
       "50%                     0.003478                 0.026406   \n",
       "75%                     0.018182                 0.050000   \n",
       "max                     0.200000                 0.200000   \n",
       "\n",
       "       GoogleMetric:Page Values  SeasonalPurchase            OS  SearchEngine  \\\n",
       "count              14599.000000      14581.000000  14597.000000  14609.000000   \n",
       "mean                   4.812620          0.064083      2.122422      2.356629   \n",
       "std                   16.887366          0.202583      0.914404      1.721823   \n",
       "min                    0.000000          0.000000      1.000000      1.000000   \n",
       "25%                    0.000000          0.000000      2.000000      2.000000   \n",
       "50%                    0.000000          0.000000      2.000000      2.000000   \n",
       "75%                    0.000000          0.000000      3.000000      2.000000   \n",
       "max                  361.763742          1.000000      8.000000     13.000000   \n",
       "\n",
       "               Zone  Type of Traffic  WeekendPurchase  \n",
       "count  14614.000000     14588.000000     14610.000000  \n",
       "mean       3.155673         4.090143         0.234155  \n",
       "std        2.405155         4.040147         0.423484  \n",
       "min        1.000000         1.000000         0.000000  \n",
       "25%        1.000000         2.000000         0.000000  \n",
       "50%        3.000000         2.000000         0.000000  \n",
       "75%        4.000000         4.000000         0.000000  \n",
       "max        9.000000        20.000000         1.000000  "
      ]
     },
     "execution_count": 8,
     "metadata": {},
     "output_type": "execute_result"
    }
   ],
   "source": [
    "data.describe()"
   ]
  },
  {
   "cell_type": "markdown",
   "id": "f13c2fbb",
   "metadata": {
    "papermill": {
     "duration": 0.011365,
     "end_time": "2023-04-02T17:00:07.289417",
     "exception": false,
     "start_time": "2023-04-02T17:00:07.278052",
     "status": "completed"
    },
    "tags": []
   },
   "source": [
    "# Separating Categorical and Numerical Columns"
   ]
  },
  {
   "cell_type": "code",
   "execution_count": 9,
   "id": "4603b8fd",
   "metadata": {
    "execution": {
     "iopub.execute_input": "2023-04-02T17:00:07.314959Z",
     "iopub.status.busy": "2023-04-02T17:00:07.314521Z",
     "iopub.status.idle": "2023-04-02T17:00:07.327004Z",
     "shell.execute_reply": "2023-04-02T17:00:07.325564Z"
    },
    "papermill": {
     "duration": 0.029081,
     "end_time": "2023-04-02T17:00:07.330220",
     "exception": false,
     "start_time": "2023-04-02T17:00:07.301139",
     "status": "completed"
    },
    "tags": []
   },
   "outputs": [
    {
     "name": "stdout",
     "output_type": "stream",
     "text": [
      "Index(['HomePage', 'HomePage_Duration', 'LandingPage', 'LandingPage_Duration',\n",
      "       'ProductDescriptionPage', 'ProductDescriptionPage_Duration',\n",
      "       'GoogleMetric:Bounce Rates', 'GoogleMetric:Exit Rates',\n",
      "       'GoogleMetric:Page Values', 'SeasonalPurchase', 'OS', 'SearchEngine',\n",
      "       'Zone', 'Type of Traffic', 'WeekendPurchase'],\n",
      "      dtype='object')\n",
      "Index(['Month_SeasonalPurchase', 'CustomerType', 'Gender', 'Cookies Setting',\n",
      "       'Education', 'Marital Status'],\n",
      "      dtype='object')\n"
     ]
    }
   ],
   "source": [
    "num_cols = data.select_dtypes(include=['int64', 'float64']).columns\n",
    "cat_cols = data.select_dtypes(include=['object']).columns\n",
    "print(num_cols)\n",
    "print(cat_cols)"
   ]
  },
  {
   "cell_type": "code",
   "execution_count": 10,
   "id": "dec8c219",
   "metadata": {
    "execution": {
     "iopub.execute_input": "2023-04-02T17:00:07.357008Z",
     "iopub.status.busy": "2023-04-02T17:00:07.355765Z",
     "iopub.status.idle": "2023-04-02T17:00:07.363468Z",
     "shell.execute_reply": "2023-04-02T17:00:07.362230Z"
    },
    "papermill": {
     "duration": 0.024275,
     "end_time": "2023-04-02T17:00:07.366981",
     "exception": false,
     "start_time": "2023-04-02T17:00:07.342706",
     "status": "completed"
    },
    "tags": []
   },
   "outputs": [
    {
     "name": "stdout",
     "output_type": "stream",
     "text": [
      "['HomePage', 'HomePage_Duration', 'LandingPage', 'LandingPage_Duration', 'ProductDescriptionPage', 'ProductDescriptionPage_Duration', 'GoogleMetric:Bounce Rates', 'GoogleMetric:Exit Rates', 'GoogleMetric:Page Values']\n"
     ]
    }
   ],
   "source": [
    "num_cols_0 = list(num_cols)\n",
    "num_cols_0.remove('OS')\n",
    "num_cols_0.remove('SearchEngine')\n",
    "num_cols_0.remove('Zone')\n",
    "num_cols_0.remove('Type of Traffic')\n",
    "num_cols_0.remove('WeekendPurchase')\n",
    "num_cols_0.remove('SeasonalPurchase')\n",
    "\"\"\"\n",
    "num_cols_0.remove('Visited_HomePage')\n",
    "num_cols_0.remove('Visited_LandingPage')\n",
    "num_cols_0.remove('Bounced')\n",
    "\"\"\"\n",
    "print(num_cols_0)"
   ]
  },
  {
   "cell_type": "code",
   "execution_count": 11,
   "id": "9576da0a",
   "metadata": {
    "execution": {
     "iopub.execute_input": "2023-04-02T17:00:07.392983Z",
     "iopub.status.busy": "2023-04-02T17:00:07.392535Z",
     "iopub.status.idle": "2023-04-02T17:00:07.399561Z",
     "shell.execute_reply": "2023-04-02T17:00:07.398164Z"
    },
    "papermill": {
     "duration": 0.02233,
     "end_time": "2023-04-02T17:00:07.401744",
     "exception": false,
     "start_time": "2023-04-02T17:00:07.379414",
     "status": "completed"
    },
    "tags": []
   },
   "outputs": [
    {
     "name": "stdout",
     "output_type": "stream",
     "text": [
      "['Month_SeasonalPurchase', 'CustomerType', 'Gender', 'Cookies Setting', 'Education', 'Marital Status', 'OS', 'SearchEngine', 'Zone', 'Type of Traffic', 'WeekendPurchase', 'SeasonalPurchase']\n"
     ]
    }
   ],
   "source": [
    "cat_cols_0 = list(cat_cols)\n",
    "cat_cols_0.append('OS')\n",
    "cat_cols_0.append('SearchEngine')\n",
    "cat_cols_0.append('Zone')\n",
    "cat_cols_0.append('Type of Traffic')\n",
    "cat_cols_0.append('WeekendPurchase')\n",
    "cat_cols_0.append('SeasonalPurchase')\n",
    "print(cat_cols_0)"
   ]
  },
  {
   "cell_type": "code",
   "execution_count": 12,
   "id": "96985c4d",
   "metadata": {
    "execution": {
     "iopub.execute_input": "2023-04-02T17:00:07.427073Z",
     "iopub.status.busy": "2023-04-02T17:00:07.426634Z",
     "iopub.status.idle": "2023-04-02T17:00:07.432598Z",
     "shell.execute_reply": "2023-04-02T17:00:07.431224Z"
    },
    "papermill": {
     "duration": 0.021706,
     "end_time": "2023-04-02T17:00:07.435292",
     "exception": false,
     "start_time": "2023-04-02T17:00:07.413586",
     "status": "completed"
    },
    "tags": []
   },
   "outputs": [],
   "source": [
    "cat_cols_1 = ['OS', 'SearchEngine', 'Zone', 'Type of Traffic', 'WeekendPurchase',\n",
    "              'SeasonalPurchase']"
   ]
  },
  {
   "cell_type": "markdown",
   "id": "d2d95810",
   "metadata": {
    "papermill": {
     "duration": 0.011572,
     "end_time": "2023-04-02T17:00:07.458917",
     "exception": false,
     "start_time": "2023-04-02T17:00:07.447345",
     "status": "completed"
    },
    "tags": []
   },
   "source": [
    "# Checking for Data Imbalance"
   ]
  },
  {
   "cell_type": "code",
   "execution_count": 13,
   "id": "c2dafde1",
   "metadata": {
    "execution": {
     "iopub.execute_input": "2023-04-02T17:00:07.484936Z",
     "iopub.status.busy": "2023-04-02T17:00:07.483912Z",
     "iopub.status.idle": "2023-04-02T17:00:07.494037Z",
     "shell.execute_reply": "2023-04-02T17:00:07.493037Z"
    },
    "papermill": {
     "duration": 0.025544,
     "end_time": "2023-04-02T17:00:07.496282",
     "exception": false,
     "start_time": "2023-04-02T17:00:07.470738",
     "status": "completed"
    },
    "tags": []
   },
   "outputs": [
    {
     "data": {
      "text/plain": [
       "False    0.615369\n",
       "True     0.384631\n",
       "Name: Made_Purchase, dtype: float64"
      ]
     },
     "execution_count": 13,
     "metadata": {},
     "output_type": "execute_result"
    }
   ],
   "source": [
    "labels.value_counts(normalize=True)"
   ]
  },
  {
   "cell_type": "markdown",
   "id": "54151fc3",
   "metadata": {
    "papermill": {
     "duration": 0.011472,
     "end_time": "2023-04-02T17:00:07.519639",
     "exception": false,
     "start_time": "2023-04-02T17:00:07.508167",
     "status": "completed"
    },
    "tags": []
   },
   "source": [
    "# Exploratory Data Analysis"
   ]
  },
  {
   "cell_type": "code",
   "execution_count": 14,
   "id": "4050bae6",
   "metadata": {
    "execution": {
     "iopub.execute_input": "2023-04-02T17:00:07.546000Z",
     "iopub.status.busy": "2023-04-02T17:00:07.545140Z",
     "iopub.status.idle": "2023-04-02T17:00:10.805532Z",
     "shell.execute_reply": "2023-04-02T17:00:10.804267Z"
    },
    "papermill": {
     "duration": 3.277131,
     "end_time": "2023-04-02T17:00:10.808603",
     "exception": false,
     "start_time": "2023-04-02T17:00:07.531472",
     "status": "completed"
    },
    "tags": []
   },
   "outputs": [
    {
     "data": {
      "image/png": "[encoded data removed]",
      "text/plain": [
       "<Figure size 720x576 with 1 Axes>"
      ]
     },
     "metadata": {
      "needs_background": "light"
     },
     "output_type": "display_data"
    },
    {
     "data": {
      "image/png": "[encoded data removed]",
      "text/plain": [
       "<Figure size 720x576 with 1 Axes>"
      ]
     },
     "metadata": {
      "needs_background": "light"
     },
     "output_type": "display_data"
    },
    {
     "data": {
      "image/png": "[encoded data removed]",
      "text/plain": [
       "<Figure size 720x576 with 1 Axes>"
      ]
     },
     "metadata": {
      "needs_background": "light"
     },
     "output_type": "display_data"
    },
    {
     "data": {
      "image/png": "[encoded data removed]",
      "text/plain": [
       "<Figure size 720x576 with 1 Axes>"
      ]
     },
     "metadata": {
      "needs_background": "light"
     },
     "output_type": "display_data"
    },
    {
     "data": {
      "image/png": "[encoded data removed]",
      "text/plain": [
       "<Figure size 720x576 with 1 Axes>"
      ]
     },
     "metadata": {
      "needs_background": "light"
     },
     "output_type": "display_data"
    },
    {
     "data": {
      "image/png": "[encoded data removed]",
      "text/plain": [
       "<Figure size 720x576 with 1 Axes>"
      ]
     },
     "metadata": {
      "needs_background": "light"
     },
     "output_type": "display_data"
    },
    {
     "data": {
      "image/png": "[encoded data removed]",
      "text/plain": [
       "<Figure size 720x576 with 1 Axes>"
      ]
     },
     "metadata": {
      "needs_background": "light"
     },
     "output_type": "display_data"
    },
    {
     "data": {
      "image/png": "[encoded data removed]",
      "text/plain": [
       "<Figure size 720x576 with 1 Axes>"
      ]
     },
     "metadata": {
      "needs_background": "light"
     },
     "output_type": "display_data"
    },
    {
     "data": {
      "image/png": "[encoded data removed]",
      "text/plain": [
       "<Figure size 720x576 with 1 Axes>"
      ]
     },
     "metadata": {
      "needs_background": "light"
     },
     "output_type": "display_data"
    },
    {
     "data": {
      "image/png": "[encoded data removed]",
      "text/plain": [
       "<Figure size 720x576 with 1 Axes>"
      ]
     },
     "metadata": {
      "needs_background": "light"
     },
     "output_type": "display_data"
    },
    {
     "data": {
      "image/png": "[encoded data removed]",
      "text/plain": [
       "<Figure size 720x576 with 1 Axes>"
      ]
     },
     "metadata": {
      "needs_background": "light"
     },
     "output_type": "display_data"
    },
    {
     "data": {
      "image/png": "[encoded data removed]",
      "text/plain": [
       "<Figure size 720x576 with 1 Axes>"
      ]
     },
     "metadata": {
      "needs_background": "light"
     },
     "output_type": "display_data"
    }
   ],
   "source": [
    "for cat in cat_cols_0:\n",
    "    fig, ax = plt.subplots(figsize=(10, 8))\n",
    "    sns.countplot(x = cat, hue='Made_Purchase', data = train)\n",
    "    plt.show()"
   ]
  },
  {
   "cell_type": "code",
   "execution_count": 15,
   "id": "ae522e13",
   "metadata": {
    "execution": {
     "iopub.execute_input": "2023-04-02T17:00:10.845299Z",
     "iopub.status.busy": "2023-04-02T17:00:10.844888Z",
     "iopub.status.idle": "2023-04-02T17:00:10.851806Z",
     "shell.execute_reply": "2023-04-02T17:00:10.850720Z"
    },
    "papermill": {
     "duration": 0.028357,
     "end_time": "2023-04-02T17:00:10.853967",
     "exception": false,
     "start_time": "2023-04-02T17:00:10.825610",
     "status": "completed"
    },
    "tags": []
   },
   "outputs": [
    {
     "data": {
      "text/plain": [
       "\"\\nfor cat in ['Visited_HomePage', 'Visited_LandingPage','Bounced']:\\n    fig, ax = plt.subplots(figsize=(10, 8))\\n    sns.countplot(x = cat, hue='Made_Purchase', data = train)\\n    plt.show()\\n\""
      ]
     },
     "execution_count": 15,
     "metadata": {},
     "output_type": "execute_result"
    }
   ],
   "source": [
    "\"\"\"\n",
    "for cat in ['Visited_HomePage', 'Visited_LandingPage','Bounced']:\n",
    "    fig, ax = plt.subplots(figsize=(10, 8))\n",
    "    sns.countplot(x = cat, hue='Made_Purchase', data = train)\n",
    "    plt.show()\n",
    "\"\"\""
   ]
  },
  {
   "cell_type": "code",
   "execution_count": 16,
   "id": "6ae8f7a4",
   "metadata": {
    "execution": {
     "iopub.execute_input": "2023-04-02T17:00:10.886980Z",
     "iopub.status.busy": "2023-04-02T17:00:10.886549Z",
     "iopub.status.idle": "2023-04-02T17:00:17.541492Z",
     "shell.execute_reply": "2023-04-02T17:00:17.540174Z"
    },
    "papermill": {
     "duration": 6.675327,
     "end_time": "2023-04-02T17:00:17.544871",
     "exception": false,
     "start_time": "2023-04-02T17:00:10.869544",
     "status": "completed"
    },
    "tags": []
   },
   "outputs": [
    {
     "data": {
      "image/png": "[encoded data removed]",
      "text/plain": [
       "<Figure size 805.75x360 with 1 Axes>"
      ]
     },
     "metadata": {
      "needs_background": "light"
     },
     "output_type": "display_data"
    },
    {
     "data": {
      "image/png": "[encoded data removed]",
      "text/plain": [
       "<Figure size 805.75x360 with 1 Axes>"
      ]
     },
     "metadata": {
      "needs_background": "light"
     },
     "output_type": "display_data"
    },
    {
     "data": {
      "image/png": "[encoded data removed]",
      "text/plain": [
       "<Figure size 805.75x360 with 1 Axes>"
      ]
     },
     "metadata": {
      "needs_background": "light"
     },
     "output_type": "display_data"
    },
    {
     "data": {
      "image/png": "[encoded data removed]",
      "text/plain": [
       "<Figure size 805.75x360 with 1 Axes>"
      ]
     },
     "metadata": {
      "needs_background": "light"
     },
     "output_type": "display_data"
    },
    {
     "data": {
      "image/png": "[encoded data removed]",
      "text/plain": [
       "<Figure size 805.75x360 with 1 Axes>"
      ]
     },
     "metadata": {
      "needs_background": "light"
     },
     "output_type": "display_data"
    },
    {
     "data": {
      "image/png": "[encoded data removed]",
      "text/plain": [
       "<Figure size 805.75x360 with 1 Axes>"
      ]
     },
     "metadata": {
      "needs_background": "light"
     },
     "output_type": "display_data"
    },
    {
     "data": {
      "image/png": "[encoded data removed]",
      "text/plain": [
       "<Figure size 805.75x360 with 1 Axes>"
      ]
     },
     "metadata": {
      "needs_background": "light"
     },
     "output_type": "display_data"
    },
    {
     "data": {
      "image/png": "[encoded data removed]",
      "text/plain": [
       "<Figure size 805.75x360 with 1 Axes>"
      ]
     },
     "metadata": {
      "needs_background": "light"
     },
     "output_type": "display_data"
    },
    {
     "data": {
      "image/png": "[encoded data removed]",
      "text/plain": [
       "<Figure size 805.75x360 with 1 Axes>"
      ]
     },
     "metadata": {
      "needs_background": "light"
     },
     "output_type": "display_data"
    }
   ],
   "source": [
    "for num in num_cols_0:\n",
    "    sns.displot(data=train,x=np.log1p(train[num]),hue='Made_Purchase', height=5, aspect=2)\n",
    "    plt.show()"
   ]
  },
  {
   "cell_type": "code",
   "execution_count": 17,
   "id": "a66ffd81",
   "metadata": {
    "execution": {
     "iopub.execute_input": "2023-04-02T17:00:17.590293Z",
     "iopub.status.busy": "2023-04-02T17:00:17.589852Z",
     "iopub.status.idle": "2023-04-02T17:00:17.617637Z",
     "shell.execute_reply": "2023-04-02T17:00:17.615537Z"
    },
    "papermill": {
     "duration": 0.052698,
     "end_time": "2023-04-02T17:00:17.621728",
     "exception": false,
     "start_time": "2023-04-02T17:00:17.569030",
     "status": "completed"
    },
    "tags": []
   },
   "outputs": [
    {
     "name": "stdout",
     "output_type": "stream",
     "text": [
      "Month_SeasonalPurchase  Aug   Dec  Feb  Jul  June   Mar   May   Nov  Oct  Sep\n",
      "SeasonalPurchase                                                             \n",
      "0.0                     505  1995  128  483   347  2280  2636  3408  623  507\n",
      "0.2                       0     0   18    0     0     0   197     0    0    0\n",
      "0.4                       0     0   29    0     0     0   278     0    0    0\n",
      "0.6                       0     0   20    0     0     0   400     0    0    0\n",
      "0.8                       0     0   19    0     0     0   375     0    0    0\n",
      "1.0                       0     0    6    0     0     0   183     0    0    0\n"
     ]
    }
   ],
   "source": [
    "contingency_table = pd.crosstab(train['SeasonalPurchase'], train['Month_SeasonalPurchase'])\n",
    "print(contingency_table)"
   ]
  },
  {
   "cell_type": "code",
   "execution_count": 18,
   "id": "643fa17b",
   "metadata": {
    "execution": {
     "iopub.execute_input": "2023-04-02T17:00:17.661688Z",
     "iopub.status.busy": "2023-04-02T17:00:17.661279Z",
     "iopub.status.idle": "2023-04-02T17:00:18.776845Z",
     "shell.execute_reply": "2023-04-02T17:00:18.775637Z"
    },
    "papermill": {
     "duration": 1.138797,
     "end_time": "2023-04-02T17:00:18.779540",
     "exception": false,
     "start_time": "2023-04-02T17:00:17.640743",
     "status": "completed"
    },
    "tags": []
   },
   "outputs": [
    {
     "data": {
      "text/plain": [
       "<AxesSubplot:>"
      ]
     },
     "execution_count": 18,
     "metadata": {},
     "output_type": "execute_result"
    },
    {
     "data": {
      "image/png": "[encoded data removed]",
      "text/plain": [
       "<Figure size 720x720 with 2 Axes>"
      ]
     },
     "metadata": {
      "needs_background": "light"
     },
     "output_type": "display_data"
    }
   ],
   "source": [
    "corr_matrix = train[num_cols_0 + ['Made_Purchase']].corr()\n",
    "fig, ax = plt.subplots(figsize=(10,10)) \n",
    "sns.heatmap(corr_matrix, cmap='coolwarm', annot=True)"
   ]
  },
  {
   "cell_type": "markdown",
   "id": "f789e005",
   "metadata": {
    "papermill": {
     "duration": 0.019348,
     "end_time": "2023-04-02T17:00:18.818782",
     "exception": false,
     "start_time": "2023-04-02T17:00:18.799434",
     "status": "completed"
    },
    "tags": []
   },
   "source": [
    "# Data Preprocessing"
   ]
  },
  {
   "cell_type": "code",
   "execution_count": 19,
   "id": "e6290f9f",
   "metadata": {
    "execution": {
     "iopub.execute_input": "2023-04-02T17:00:18.860797Z",
     "iopub.status.busy": "2023-04-02T17:00:18.859526Z",
     "iopub.status.idle": "2023-04-02T17:00:19.075807Z",
     "shell.execute_reply": "2023-04-02T17:00:19.073984Z"
    },
    "papermill": {
     "duration": 0.240142,
     "end_time": "2023-04-02T17:00:19.078866",
     "exception": false,
     "start_time": "2023-04-02T17:00:18.838724",
     "status": "completed"
    },
    "tags": []
   },
   "outputs": [],
   "source": [
    "from sklearn.model_selection import train_test_split\n",
    "\n",
    "x_train, x_test, y_train, y_test = train_test_split(data, labels, test_size=0.3,\n",
    "                                                    random_state=42, stratify=labels)"
   ]
  },
  {
   "cell_type": "code",
   "execution_count": 20,
   "id": "f521c54e",
   "metadata": {
    "execution": {
     "iopub.execute_input": "2023-04-02T17:00:19.121151Z",
     "iopub.status.busy": "2023-04-02T17:00:19.120724Z",
     "iopub.status.idle": "2023-04-02T17:00:19.185197Z",
     "shell.execute_reply": "2023-04-02T17:00:19.183908Z"
    },
    "papermill": {
     "duration": 0.088896,
     "end_time": "2023-04-02T17:00:19.188110",
     "exception": false,
     "start_time": "2023-04-02T17:00:19.099214",
     "status": "completed"
    },
    "tags": []
   },
   "outputs": [
    {
     "data": {
      "text/html": [
       "<div>\n",
       "<style scoped>\n",
       "    .dataframe tbody tr th:only-of-type {\n",
       "        vertical-align: middle;\n",
       "    }\n",
       "\n",
       "    .dataframe tbody tr th {\n",
       "        vertical-align: top;\n",
       "    }\n",
       "\n",
       "    .dataframe thead th {\n",
       "        text-align: right;\n",
       "    }\n",
       "</style>\n",
       "<table border=\"1\" class=\"dataframe\">\n",
       "  <thead>\n",
       "    <tr style=\"text-align: right;\">\n",
       "      <th></th>\n",
       "      <th>HomePage</th>\n",
       "      <th>HomePage_Duration</th>\n",
       "      <th>LandingPage</th>\n",
       "      <th>LandingPage_Duration</th>\n",
       "      <th>ProductDescriptionPage</th>\n",
       "      <th>ProductDescriptionPage_Duration</th>\n",
       "      <th>GoogleMetric:Bounce Rates</th>\n",
       "      <th>GoogleMetric:Exit Rates</th>\n",
       "      <th>GoogleMetric:Page Values</th>\n",
       "      <th>SeasonalPurchase</th>\n",
       "      <th>OS</th>\n",
       "      <th>SearchEngine</th>\n",
       "      <th>Zone</th>\n",
       "      <th>Type of Traffic</th>\n",
       "      <th>WeekendPurchase</th>\n",
       "    </tr>\n",
       "  </thead>\n",
       "  <tbody>\n",
       "    <tr>\n",
       "      <th>count</th>\n",
       "      <td>10218.000000</td>\n",
       "      <td>10218.000000</td>\n",
       "      <td>10202.000000</td>\n",
       "      <td>10213.000000</td>\n",
       "      <td>10223.000000</td>\n",
       "      <td>10197.000000</td>\n",
       "      <td>10209.000000</td>\n",
       "      <td>10220.000000</td>\n",
       "      <td>10222.000000</td>\n",
       "      <td>10207.000000</td>\n",
       "      <td>10211.000000</td>\n",
       "      <td>10223.000000</td>\n",
       "      <td>10226.000000</td>\n",
       "      <td>10219.000000</td>\n",
       "      <td>10231.000000</td>\n",
       "    </tr>\n",
       "    <tr>\n",
       "      <th>mean</th>\n",
       "      <td>2.246624</td>\n",
       "      <td>79.603921</td>\n",
       "      <td>0.489512</td>\n",
       "      <td>33.300498</td>\n",
       "      <td>31.400567</td>\n",
       "      <td>1180.821874</td>\n",
       "      <td>0.023578</td>\n",
       "      <td>0.044749</td>\n",
       "      <td>4.784531</td>\n",
       "      <td>0.065916</td>\n",
       "      <td>2.124572</td>\n",
       "      <td>2.350484</td>\n",
       "      <td>3.181889</td>\n",
       "      <td>4.094432</td>\n",
       "      <td>0.242205</td>\n",
       "    </tr>\n",
       "    <tr>\n",
       "      <th>std</th>\n",
       "      <td>3.269508</td>\n",
       "      <td>180.835788</td>\n",
       "      <td>1.260088</td>\n",
       "      <td>141.058274</td>\n",
       "      <td>43.643097</td>\n",
       "      <td>1942.337818</td>\n",
       "      <td>0.050214</td>\n",
       "      <td>0.050091</td>\n",
       "      <td>16.965793</td>\n",
       "      <td>0.205750</td>\n",
       "      <td>0.913472</td>\n",
       "      <td>1.704472</td>\n",
       "      <td>2.423675</td>\n",
       "      <td>4.039876</td>\n",
       "      <td>0.428439</td>\n",
       "    </tr>\n",
       "    <tr>\n",
       "      <th>min</th>\n",
       "      <td>0.000000</td>\n",
       "      <td>0.000000</td>\n",
       "      <td>0.000000</td>\n",
       "      <td>0.000000</td>\n",
       "      <td>0.000000</td>\n",
       "      <td>0.000000</td>\n",
       "      <td>0.000000</td>\n",
       "      <td>0.000000</td>\n",
       "      <td>0.000000</td>\n",
       "      <td>0.000000</td>\n",
       "      <td>1.000000</td>\n",
       "      <td>1.000000</td>\n",
       "      <td>1.000000</td>\n",
       "      <td>1.000000</td>\n",
       "      <td>0.000000</td>\n",
       "    </tr>\n",
       "    <tr>\n",
       "      <th>25%</th>\n",
       "      <td>0.000000</td>\n",
       "      <td>0.000000</td>\n",
       "      <td>0.000000</td>\n",
       "      <td>0.000000</td>\n",
       "      <td>7.000000</td>\n",
       "      <td>173.500000</td>\n",
       "      <td>0.000000</td>\n",
       "      <td>0.014492</td>\n",
       "      <td>0.000000</td>\n",
       "      <td>0.000000</td>\n",
       "      <td>2.000000</td>\n",
       "      <td>2.000000</td>\n",
       "      <td>1.000000</td>\n",
       "      <td>2.000000</td>\n",
       "      <td>0.000000</td>\n",
       "    </tr>\n",
       "    <tr>\n",
       "      <th>50%</th>\n",
       "      <td>1.000000</td>\n",
       "      <td>5.000000</td>\n",
       "      <td>0.000000</td>\n",
       "      <td>0.000000</td>\n",
       "      <td>17.000000</td>\n",
       "      <td>585.391667</td>\n",
       "      <td>0.003636</td>\n",
       "      <td>0.026488</td>\n",
       "      <td>0.000000</td>\n",
       "      <td>0.000000</td>\n",
       "      <td>2.000000</td>\n",
       "      <td>2.000000</td>\n",
       "      <td>3.000000</td>\n",
       "      <td>2.000000</td>\n",
       "      <td>0.000000</td>\n",
       "    </tr>\n",
       "    <tr>\n",
       "      <th>75%</th>\n",
       "      <td>3.000000</td>\n",
       "      <td>91.000000</td>\n",
       "      <td>0.000000</td>\n",
       "      <td>0.000000</td>\n",
       "      <td>38.000000</td>\n",
       "      <td>1435.772114</td>\n",
       "      <td>0.018182</td>\n",
       "      <td>0.050000</td>\n",
       "      <td>0.000000</td>\n",
       "      <td>0.000000</td>\n",
       "      <td>3.000000</td>\n",
       "      <td>2.000000</td>\n",
       "      <td>4.000000</td>\n",
       "      <td>4.000000</td>\n",
       "      <td>0.000000</td>\n",
       "    </tr>\n",
       "    <tr>\n",
       "      <th>max</th>\n",
       "      <td>27.000000</td>\n",
       "      <td>3398.750000</td>\n",
       "      <td>24.000000</td>\n",
       "      <td>2549.375000</td>\n",
       "      <td>705.000000</td>\n",
       "      <td>63973.522230</td>\n",
       "      <td>0.200000</td>\n",
       "      <td>0.200000</td>\n",
       "      <td>361.763742</td>\n",
       "      <td>1.000000</td>\n",
       "      <td>8.000000</td>\n",
       "      <td>13.000000</td>\n",
       "      <td>9.000000</td>\n",
       "      <td>20.000000</td>\n",
       "      <td>1.000000</td>\n",
       "    </tr>\n",
       "  </tbody>\n",
       "</table>\n",
       "</div>"
      ],
      "text/plain": [
       "           HomePage  HomePage_Duration   LandingPage  LandingPage_Duration  \\\n",
       "count  10218.000000       10218.000000  10202.000000          10213.000000   \n",
       "mean       2.246624          79.603921      0.489512             33.300498   \n",
       "std        3.269508         180.835788      1.260088            141.058274   \n",
       "min        0.000000           0.000000      0.000000              0.000000   \n",
       "25%        0.000000           0.000000      0.000000              0.000000   \n",
       "50%        1.000000           5.000000      0.000000              0.000000   \n",
       "75%        3.000000          91.000000      0.000000              0.000000   \n",
       "max       27.000000        3398.750000     24.000000           2549.375000   \n",
       "\n",
       "       ProductDescriptionPage  ProductDescriptionPage_Duration  \\\n",
       "count            10223.000000                     10197.000000   \n",
       "mean                31.400567                      1180.821874   \n",
       "std                 43.643097                      1942.337818   \n",
       "min                  0.000000                         0.000000   \n",
       "25%                  7.000000                       173.500000   \n",
       "50%                 17.000000                       585.391667   \n",
       "75%                 38.000000                      1435.772114   \n",
       "max                705.000000                     63973.522230   \n",
       "\n",
       "       GoogleMetric:Bounce Rates  GoogleMetric:Exit Rates  \\\n",
       "count               10209.000000             10220.000000   \n",
       "mean                    0.023578                 0.044749   \n",
       "std                     0.050214                 0.050091   \n",
       "min                     0.000000                 0.000000   \n",
       "25%                     0.000000                 0.014492   \n",
       "50%                     0.003636                 0.026488   \n",
       "75%                     0.018182                 0.050000   \n",
       "max                     0.200000                 0.200000   \n",
       "\n",
       "       GoogleMetric:Page Values  SeasonalPurchase            OS  SearchEngine  \\\n",
       "count              10222.000000      10207.000000  10211.000000  10223.000000   \n",
       "mean                   4.784531          0.065916      2.124572      2.350484   \n",
       "std                   16.965793          0.205750      0.913472      1.704472   \n",
       "min                    0.000000          0.000000      1.000000      1.000000   \n",
       "25%                    0.000000          0.000000      2.000000      2.000000   \n",
       "50%                    0.000000          0.000000      2.000000      2.000000   \n",
       "75%                    0.000000          0.000000      3.000000      2.000000   \n",
       "max                  361.763742          1.000000      8.000000     13.000000   \n",
       "\n",
       "               Zone  Type of Traffic  WeekendPurchase  \n",
       "count  10226.000000     10219.000000     10231.000000  \n",
       "mean       3.181889         4.094432         0.242205  \n",
       "std        2.423675         4.039876         0.428439  \n",
       "min        1.000000         1.000000         0.000000  \n",
       "25%        1.000000         2.000000         0.000000  \n",
       "50%        3.000000         2.000000         0.000000  \n",
       "75%        4.000000         4.000000         0.000000  \n",
       "max        9.000000        20.000000         1.000000  "
      ]
     },
     "execution_count": 20,
     "metadata": {},
     "output_type": "execute_result"
    }
   ],
   "source": [
    "x_train.describe()"
   ]
  },
  {
   "cell_type": "code",
   "execution_count": 21,
   "id": "294b81b8",
   "metadata": {
    "execution": {
     "iopub.execute_input": "2023-04-02T17:00:19.232634Z",
     "iopub.status.busy": "2023-04-02T17:00:19.231593Z",
     "iopub.status.idle": "2023-04-02T17:00:19.582095Z",
     "shell.execute_reply": "2023-04-02T17:00:19.580717Z"
    },
    "papermill": {
     "duration": 0.375892,
     "end_time": "2023-04-02T17:00:19.585116",
     "exception": false,
     "start_time": "2023-04-02T17:00:19.209224",
     "status": "completed"
    },
    "tags": []
   },
   "outputs": [],
   "source": [
    "from sklearn.compose import ColumnTransformer\n",
    "from sklearn.impute import SimpleImputer, KNNImputer\n",
    "from sklearn.preprocessing import StandardScaler, OneHotEncoder, OrdinalEncoder,MinMaxScaler,MaxAbsScaler, FunctionTransformer, PowerTransformer,KBinsDiscretizer \n",
    "\n",
    "from imblearn.pipeline import Pipeline\n",
    "from sklearn.linear_model import LogisticRegression\n",
    "from sklearn.metrics import make_scorer,f1_score"
   ]
  },
  {
   "cell_type": "code",
   "execution_count": 22,
   "id": "6eaae120",
   "metadata": {
    "execution": {
     "iopub.execute_input": "2023-04-02T17:00:19.628198Z",
     "iopub.status.busy": "2023-04-02T17:00:19.627771Z",
     "iopub.status.idle": "2023-04-02T17:00:19.633153Z",
     "shell.execute_reply": "2023-04-02T17:00:19.632043Z"
    },
    "papermill": {
     "duration": 0.029722,
     "end_time": "2023-04-02T17:00:19.635536",
     "exception": false,
     "start_time": "2023-04-02T17:00:19.605814",
     "status": "completed"
    },
    "tags": []
   },
   "outputs": [],
   "source": [
    "numeric_transformer = Pipeline(steps=[\n",
    "                                ('imputer', KNNImputer(n_neighbors=10)),\n",
    "                                ('scaler', PowerTransformer())\n",
    "                    ])"
   ]
  },
  {
   "cell_type": "code",
   "execution_count": 23,
   "id": "b1bac5b7",
   "metadata": {
    "execution": {
     "iopub.execute_input": "2023-04-02T17:00:19.678344Z",
     "iopub.status.busy": "2023-04-02T17:00:19.677520Z",
     "iopub.status.idle": "2023-04-02T17:00:19.683207Z",
     "shell.execute_reply": "2023-04-02T17:00:19.682388Z"
    },
    "papermill": {
     "duration": 0.029412,
     "end_time": "2023-04-02T17:00:19.685332",
     "exception": false,
     "start_time": "2023-04-02T17:00:19.655920",
     "status": "completed"
    },
    "tags": []
   },
   "outputs": [],
   "source": [
    "numeric_encoder = Pipeline(steps=[\n",
    "                            ('imputer',KNNImputer(n_neighbors=10)),\n",
    "                            ('scaler', PowerTransformer()),\n",
    "                            # ('encoder',KBinsDiscretizer(encode='ordinal',strategy='uniform',n_bins=10))\n",
    "                ])\n",
    "# num_cols_encode = ['GoogleMetric:Page Values']"
   ]
  },
  {
   "cell_type": "code",
   "execution_count": 24,
   "id": "bd97789d",
   "metadata": {
    "execution": {
     "iopub.execute_input": "2023-04-02T17:00:19.727828Z",
     "iopub.status.busy": "2023-04-02T17:00:19.727005Z",
     "iopub.status.idle": "2023-04-02T17:00:19.731411Z",
     "shell.execute_reply": "2023-04-02T17:00:19.730628Z"
    },
    "papermill": {
     "duration": 0.028227,
     "end_time": "2023-04-02T17:00:19.733569",
     "exception": false,
     "start_time": "2023-04-02T17:00:19.705342",
     "status": "completed"
    },
    "tags": []
   },
   "outputs": [],
   "source": [
    "# num_cols_0.remove('GoogleMetric:Page Values')"
   ]
  },
  {
   "cell_type": "code",
   "execution_count": 25,
   "id": "b7749845",
   "metadata": {
    "execution": {
     "iopub.execute_input": "2023-04-02T17:00:19.775777Z",
     "iopub.status.busy": "2023-04-02T17:00:19.775029Z",
     "iopub.status.idle": "2023-04-02T17:00:19.780034Z",
     "shell.execute_reply": "2023-04-02T17:00:19.778955Z"
    },
    "papermill": {
     "duration": 0.028723,
     "end_time": "2023-04-02T17:00:19.782146",
     "exception": false,
     "start_time": "2023-04-02T17:00:19.753423",
     "status": "completed"
    },
    "tags": []
   },
   "outputs": [],
   "source": [
    "categorical_transformer_encoded = Pipeline(steps=[\n",
    "                                    ('imputer', SimpleImputer(strategy='most_frequent')),\n",
    "                                    ('encoder', OneHotEncoder())\n",
    "                                ])"
   ]
  },
  {
   "cell_type": "code",
   "execution_count": 26,
   "id": "22fd9130",
   "metadata": {
    "execution": {
     "iopub.execute_input": "2023-04-02T17:00:19.824369Z",
     "iopub.status.busy": "2023-04-02T17:00:19.823644Z",
     "iopub.status.idle": "2023-04-02T17:00:19.828246Z",
     "shell.execute_reply": "2023-04-02T17:00:19.827452Z"
    },
    "papermill": {
     "duration": 0.028498,
     "end_time": "2023-04-02T17:00:19.830513",
     "exception": false,
     "start_time": "2023-04-02T17:00:19.802015",
     "status": "completed"
    },
    "tags": []
   },
   "outputs": [],
   "source": [
    "categorical_transformer = Pipeline(steps=[\n",
    "                            ('imputer', SimpleImputer(strategy='most_frequent'))\n",
    "                        ])"
   ]
  },
  {
   "cell_type": "code",
   "execution_count": 27,
   "id": "3ecafc2f",
   "metadata": {
    "execution": {
     "iopub.execute_input": "2023-04-02T17:00:19.873365Z",
     "iopub.status.busy": "2023-04-02T17:00:19.872925Z",
     "iopub.status.idle": "2023-04-02T17:00:19.878280Z",
     "shell.execute_reply": "2023-04-02T17:00:19.877509Z"
    },
    "papermill": {
     "duration": 0.029446,
     "end_time": "2023-04-02T17:00:19.880619",
     "exception": false,
     "start_time": "2023-04-02T17:00:19.851173",
     "status": "completed"
    },
    "tags": []
   },
   "outputs": [],
   "source": [
    "preprocessor = ColumnTransformer(transformers=[\n",
    "                                    ('num', numeric_transformer, num_cols_0),\n",
    "                                    #('num_encoded',numeric_encoder,num_cols_encode),\n",
    "                                    ('cat_encoded', categorical_transformer_encoded, cat_cols),\n",
    "                                    ('cat', categorical_transformer, cat_cols_1)\n",
    "                                ],\n",
    "                                 remainder='passthrough'\n",
    "                                )"
   ]
  },
  {
   "cell_type": "markdown",
   "id": "9229b8b9",
   "metadata": {
    "papermill": {
     "duration": 0.01989,
     "end_time": "2023-04-02T17:00:19.920922",
     "exception": false,
     "start_time": "2023-04-02T17:00:19.901032",
     "status": "completed"
    },
    "tags": []
   },
   "source": [
    "# Model Creation"
   ]
  },
  {
   "cell_type": "code",
   "execution_count": 28,
   "id": "9266e59b",
   "metadata": {
    "execution": {
     "iopub.execute_input": "2023-04-02T17:00:19.964694Z",
     "iopub.status.busy": "2023-04-02T17:00:19.964179Z",
     "iopub.status.idle": "2023-04-02T17:00:19.989788Z",
     "shell.execute_reply": "2023-04-02T17:00:19.988612Z"
    },
    "papermill": {
     "duration": 0.051519,
     "end_time": "2023-04-02T17:00:19.992740",
     "exception": false,
     "start_time": "2023-04-02T17:00:19.941221",
     "status": "completed"
    },
    "tags": []
   },
   "outputs": [],
   "source": [
    "from sklearn.neural_network import MLPClassifier\n",
    "from sklearn.ensemble import AdaBoostClassifier, VotingClassifier, GradientBoostingClassifier\n",
    "from sklearn.decomposition import PCA\n",
    "from sklearn.feature_selection import SelectPercentile, SequentialFeatureSelector, chi2\n",
    "from imblearn.over_sampling import SMOTE\n",
    "from imblearn.under_sampling import RandomUnderSampler\n",
    "from imblearn import FunctionSampler\n",
    "from sklearn.neighbors import KNeighborsClassifier\n",
    "from sklearn.tree import DecisionTreeClassifier\n",
    "from sklearn.svm import SVC\n",
    "from sklearn.linear_model import Perceptron, LogisticRegression\n",
    "from sklearn.metrics import classification_report, confusion_matrix\n",
    "from sklearn.model_selection import cross_val_score\n",
    "from imblearn.ensemble import EasyEnsembleClassifier, BalancedBaggingClassifier, BalancedRandomForestClassifier, RUSBoostClassifier"
   ]
  },
  {
   "cell_type": "code",
   "execution_count": 29,
   "id": "68c8822a",
   "metadata": {
    "execution": {
     "iopub.execute_input": "2023-04-02T17:00:20.036506Z",
     "iopub.status.busy": "2023-04-02T17:00:20.035699Z",
     "iopub.status.idle": "2023-04-02T17:00:20.043989Z",
     "shell.execute_reply": "2023-04-02T17:00:20.043131Z"
    },
    "papermill": {
     "duration": 0.032449,
     "end_time": "2023-04-02T17:00:20.046394",
     "exception": false,
     "start_time": "2023-04-02T17:00:20.013945",
     "status": "completed"
    },
    "tags": []
   },
   "outputs": [],
   "source": [
    "mlp = MLPClassifier(hidden_layer_sizes=(100,50,15,10,5),solver='adam',\n",
    "                     activation='identity', max_iter=1000, random_state=42)\n",
    "knn = KNeighborsClassifier(n_neighbors=50)\n",
    "lr = LogisticRegression(solver='liblinear',penalty='l2', random_state=42)\n",
    "ada = AdaBoostClassifier(random_state=42)\n",
    "grad = GradientBoostingClassifier(random_state=684)\n",
    "vot = VotingClassifier(estimators=[('knn',knn),('lr',lr)],voting='soft')\n",
    "\n",
    "esc = EasyEnsembleClassifier(n_estimators=30)\n",
    "bbc = BalancedBaggingClassifier()\n",
    "brfc = BalancedRandomForestClassifier()\n",
    "rus = RUSBoostClassifier()\n",
    "\n",
    "model = Pipeline(steps=[('preprocessor', preprocessor),\n",
    "                        ('pca', PCA(n_components=13)),\n",
    "                        ('classifier', vot)\n",
    "                       ])"
   ]
  },
  {
   "cell_type": "markdown",
   "id": "77db4292",
   "metadata": {
    "papermill": {
     "duration": 0.020024,
     "end_time": "2023-04-02T17:00:20.086656",
     "exception": false,
     "start_time": "2023-04-02T17:00:20.066632",
     "status": "completed"
    },
    "tags": []
   },
   "source": [
    "# Model Evaluation"
   ]
  },
  {
   "cell_type": "code",
   "execution_count": 30,
   "id": "63568761",
   "metadata": {
    "execution": {
     "iopub.execute_input": "2023-04-02T17:00:20.128647Z",
     "iopub.status.busy": "2023-04-02T17:00:20.128200Z",
     "iopub.status.idle": "2023-04-02T17:00:32.264346Z",
     "shell.execute_reply": "2023-04-02T17:00:32.262636Z"
    },
    "papermill": {
     "duration": 12.163005,
     "end_time": "2023-04-02T17:00:32.269719",
     "exception": false,
     "start_time": "2023-04-02T17:00:20.106714",
     "status": "completed"
    },
    "tags": []
   },
   "outputs": [
    {
     "name": "stdout",
     "output_type": "stream",
     "text": [
      "              precision    recall  f1-score   support\n",
      "\n",
      "       False       0.67      0.89      0.77      6345\n",
      "        True       0.64      0.31      0.42      3966\n",
      "\n",
      "    accuracy                           0.67     10311\n",
      "   macro avg       0.66      0.60      0.59     10311\n",
      "weighted avg       0.66      0.67      0.63     10311\n",
      "\n",
      "Train 0.4107539409712677\n",
      "              precision    recall  f1-score   support\n",
      "\n",
      "       False       0.67      0.89      0.77      2720\n",
      "        True       0.63      0.31      0.42      1700\n",
      "\n",
      "    accuracy                           0.67      4420\n",
      "   macro avg       0.65      0.60      0.59      4420\n",
      "weighted avg       0.66      0.67      0.63      4420\n",
      "\n",
      "Test 0.41643619122876335\n"
     ]
    },
    {
     "data": {
      "image/png": "[encoded data removed]",
      "text/plain": [
       "<Figure size 432x432 with 2 Axes>"
      ]
     },
     "metadata": {
      "needs_background": "light"
     },
     "output_type": "display_data"
    }
   ],
   "source": [
    "\n",
    "model.fit(x_train, y_train)\n",
    "\n",
    "y_pred_0 = model.predict(x_train)\n",
    "y_pred_1 = model.predict(x_test)\n",
    "\n",
    "cr_train = classification_report(y_train, y_pred_0)\n",
    "cr_test = classification_report(y_test, y_pred_1)\n",
    "\n",
    "score_train = cross_val_score(model,x_train, y_train, scoring='f1').mean()\n",
    "score_test = f1_score(y_test, y_pred_1)\n",
    "print(cr_train)\n",
    "print(\"Train\", score_train)\n",
    "print(cr_test)\n",
    "print(\"Test\", score_test)\n",
    "\n",
    "cm = confusion_matrix(y_test, y_pred_1)\n",
    "plt.rcParams['figure.figsize'] = (6, 6)\n",
    "sns.heatmap(cm, annot = True, fmt='d')\n",
    "plt.show()\n",
    "\n",
    "y_pred = model.predict(test)\n"
   ]
  },
  {
   "cell_type": "code",
   "execution_count": 31,
   "id": "80f5622b",
   "metadata": {
    "execution": {
     "iopub.execute_input": "2023-04-02T17:00:32.377753Z",
     "iopub.status.busy": "2023-04-02T17:00:32.376960Z",
     "iopub.status.idle": "2023-04-02T17:00:32.383624Z",
     "shell.execute_reply": "2023-04-02T17:00:32.382738Z"
    },
    "papermill": {
     "duration": 0.063328,
     "end_time": "2023-04-02T17:00:32.385862",
     "exception": false,
     "start_time": "2023-04-02T17:00:32.322534",
     "status": "completed"
    },
    "tags": []
   },
   "outputs": [],
   "source": [
    "# 0.4556547619047619\n",
    "# 0.4629059829059829\n",
    "# Test 0.4228836490143023"
   ]
  },
  {
   "cell_type": "markdown",
   "id": "7a6c65c3",
   "metadata": {
    "papermill": {
     "duration": 0.020025,
     "end_time": "2023-04-02T17:00:32.427638",
     "exception": false,
     "start_time": "2023-04-02T17:00:32.407613",
     "status": "completed"
    },
    "tags": []
   },
   "source": [
    "# Hyperparameter Tuning"
   ]
  },
  {
   "cell_type": "code",
   "execution_count": 32,
   "id": "46b281d8",
   "metadata": {
    "execution": {
     "iopub.execute_input": "2023-04-02T17:00:32.470514Z",
     "iopub.status.busy": "2023-04-02T17:00:32.469755Z",
     "iopub.status.idle": "2023-04-02T17:00:32.476645Z",
     "shell.execute_reply": "2023-04-02T17:00:32.475507Z"
    },
    "papermill": {
     "duration": 0.030989,
     "end_time": "2023-04-02T17:00:32.478906",
     "exception": false,
     "start_time": "2023-04-02T17:00:32.447917",
     "status": "completed"
    },
    "tags": []
   },
   "outputs": [
    {
     "data": {
      "text/plain": [
       "'\\nfrom sklearn.model_selection import GridSearchCV\\n\\nparam_grid = {\\'pca__n_components\\': [1,2,3,4,5,6,7,8,9,10,11,12,13]\\n             }\\n\\nf1_scorer = make_scorer(f1_score, average=\\'binary\\')\\n\\ngrid_search = GridSearchCV(model, param_grid = param_grid, cv=5, scoring=f1_scorer, n_jobs=-1)\\n\\ngrid_search.fit(x_train, y_train)\\n\\nprint(\"Best parameters:\", grid_search.best_params_)\\nprint(\"Best F1 score:\", grid_search.best_score_)\\n'"
      ]
     },
     "execution_count": 32,
     "metadata": {},
     "output_type": "execute_result"
    }
   ],
   "source": [
    "\"\"\"\n",
    "from sklearn.model_selection import GridSearchCV\n",
    "\n",
    "param_grid = {'pca__n_components': [1,2,3,4,5,6,7,8,9,10,11,12,13]\n",
    "             }\n",
    "\n",
    "f1_scorer = make_scorer(f1_score, average='binary')\n",
    "\n",
    "grid_search = GridSearchCV(model, param_grid = param_grid, cv=5, scoring=f1_scorer, n_jobs=-1)\n",
    "\n",
    "grid_search.fit(x_train, y_train)\n",
    "\n",
    "print(\"Best parameters:\", grid_search.best_params_)\n",
    "print(\"Best F1 score:\", grid_search.best_score_)\n",
    "\"\"\""
   ]
  },
  {
   "cell_type": "code",
   "execution_count": 33,
   "id": "f607685d",
   "metadata": {
    "execution": {
     "iopub.execute_input": "2023-04-02T17:00:32.522589Z",
     "iopub.status.busy": "2023-04-02T17:00:32.521463Z",
     "iopub.status.idle": "2023-04-02T17:00:32.529049Z",
     "shell.execute_reply": "2023-04-02T17:00:32.527895Z"
    },
    "papermill": {
     "duration": 0.03158,
     "end_time": "2023-04-02T17:00:32.531195",
     "exception": false,
     "start_time": "2023-04-02T17:00:32.499615",
     "status": "completed"
    },
    "tags": []
   },
   "outputs": [
    {
     "data": {
      "text/plain": [
       "\"\\nbest_model = grid_search.best_estimator_\\n\\nbest_model.fit(x_train, y_train)\\n\\ny_pred_2 = best_model.predict(x_test)\\ncr_test = classification_report(y_test, y_pred_2)\\nprint(f1_score(y_test, y_pred_2))\\n\\ncm = confusion_matrix(y_test, y_pred_2)\\nplt.rcParams['figure.figsize'] = (6, 6)\\nsns.heatmap(cm, annot = True, fmt='d')\\nplt.show()\\n\\n\\ny_pred = best_model.predict(test)\\n\""
      ]
     },
     "execution_count": 33,
     "metadata": {},
     "output_type": "execute_result"
    }
   ],
   "source": [
    "\"\"\"\n",
    "best_model = grid_search.best_estimator_\n",
    "\n",
    "best_model.fit(x_train, y_train)\n",
    "\n",
    "y_pred_2 = best_model.predict(x_test)\n",
    "cr_test = classification_report(y_test, y_pred_2)\n",
    "print(f1_score(y_test, y_pred_2))\n",
    "\n",
    "cm = confusion_matrix(y_test, y_pred_2)\n",
    "plt.rcParams['figure.figsize'] = (6, 6)\n",
    "sns.heatmap(cm, annot = True, fmt='d')\n",
    "plt.show()\n",
    "\n",
    "\n",
    "y_pred = best_model.predict(test)\n",
    "\"\"\""
   ]
  },
  {
   "cell_type": "markdown",
   "id": "f91e16c6",
   "metadata": {
    "papermill": {
     "duration": 0.020434,
     "end_time": "2023-04-02T17:00:32.572780",
     "exception": false,
     "start_time": "2023-04-02T17:00:32.552346",
     "status": "completed"
    },
    "tags": []
   },
   "source": [
    "# Creating Submission File"
   ]
  },
  {
   "cell_type": "code",
   "execution_count": 34,
   "id": "8001b7fb",
   "metadata": {
    "execution": {
     "iopub.execute_input": "2023-04-02T17:00:32.617194Z",
     "iopub.status.busy": "2023-04-02T17:00:32.616467Z",
     "iopub.status.idle": "2023-04-02T17:00:32.633984Z",
     "shell.execute_reply": "2023-04-02T17:00:32.632867Z"
    },
    "papermill": {
     "duration": 0.042615,
     "end_time": "2023-04-02T17:00:32.636814",
     "exception": false,
     "start_time": "2023-04-02T17:00:32.594199",
     "status": "completed"
    },
    "tags": []
   },
   "outputs": [],
   "source": [
    "sample = pd.read_csv('/kaggle/input/e-commerce-shoppers-behaviour-understanding/sample.csv')"
   ]
  },
  {
   "cell_type": "code",
   "execution_count": 35,
   "id": "ad2366f7",
   "metadata": {
    "execution": {
     "iopub.execute_input": "2023-04-02T17:00:32.681377Z",
     "iopub.status.busy": "2023-04-02T17:00:32.680547Z",
     "iopub.status.idle": "2023-04-02T17:00:32.704381Z",
     "shell.execute_reply": "2023-04-02T17:00:32.703509Z"
    },
    "papermill": {
     "duration": 0.049281,
     "end_time": "2023-04-02T17:00:32.707026",
     "exception": false,
     "start_time": "2023-04-02T17:00:32.657745",
     "status": "completed"
    },
    "tags": []
   },
   "outputs": [],
   "source": [
    "submission = pd.DataFrame(columns=['id', 'Made_Purchase'])\n",
    "submission['id'] = [i for i in range(len(y_pred))]\n",
    "submission['Made_Purchase'] = y_pred\n",
    "\n",
    "submission.to_csv('submission.csv', index=False)\n"
   ]
  },
  {
   "cell_type": "code",
   "execution_count": 36,
   "id": "54fb6825",
   "metadata": {
    "execution": {
     "iopub.execute_input": "2023-04-02T17:00:32.750124Z",
     "iopub.status.busy": "2023-04-02T17:00:32.749473Z",
     "iopub.status.idle": "2023-04-02T17:00:32.756660Z",
     "shell.execute_reply": "2023-04-02T17:00:32.755501Z"
    },
    "papermill": {
     "duration": 0.031527,
     "end_time": "2023-04-02T17:00:32.758994",
     "exception": false,
     "start_time": "2023-04-02T17:00:32.727467",
     "status": "completed"
    },
    "tags": []
   },
   "outputs": [
    {
     "data": {
      "text/plain": [
       "(6599, 2)"
      ]
     },
     "execution_count": 36,
     "metadata": {},
     "output_type": "execute_result"
    }
   ],
   "source": [
    "submission.shape"
   ]
  },
  {
   "cell_type": "code",
   "execution_count": 37,
   "id": "3b074aab",
   "metadata": {
    "execution": {
     "iopub.execute_input": "2023-04-02T17:00:32.802342Z",
     "iopub.status.busy": "2023-04-02T17:00:32.801836Z",
     "iopub.status.idle": "2023-04-02T17:00:32.809273Z",
     "shell.execute_reply": "2023-04-02T17:00:32.808296Z"
    },
    "papermill": {
     "duration": 0.031821,
     "end_time": "2023-04-02T17:00:32.811556",
     "exception": false,
     "start_time": "2023-04-02T17:00:32.779735",
     "status": "completed"
    },
    "tags": []
   },
   "outputs": [
    {
     "data": {
      "text/plain": [
       "(array([False,  True]), array([5406, 1193]))"
      ]
     },
     "execution_count": 37,
     "metadata": {},
     "output_type": "execute_result"
    }
   ],
   "source": [
    "np.unique(y_pred, return_counts=True) "
   ]
  },
  {
   "cell_type": "code",
   "execution_count": 38,
   "id": "88b34f23",
   "metadata": {
    "execution": {
     "iopub.execute_input": "2023-04-02T17:00:32.855886Z",
     "iopub.status.busy": "2023-04-02T17:00:32.854745Z",
     "iopub.status.idle": "2023-04-02T17:00:32.860130Z",
     "shell.execute_reply": "2023-04-02T17:00:32.859279Z"
    },
    "papermill": {
     "duration": 0.030069,
     "end_time": "2023-04-02T17:00:32.862484",
     "exception": false,
     "start_time": "2023-04-02T17:00:32.832415",
     "status": "completed"
    },
    "tags": []
   },
   "outputs": [],
   "source": [
    "# (array([False,  True]), array([5217, 1382])) - Rando->Smote\n",
    "# (array([False,  True]), array([5327, 1272])) - Smote-> Rando\n",
    "# (array([False,  True]), array([4845, 1754])) - Smote"
   ]
  }
 ],
 "metadata": {
  "kernelspec": {
   "display_name": "Python 3",
   "language": "python",
   "name": "python3"
  },
  "language_info": {
   "codemirror_mode": {
    "name": "ipython",
    "version": 3
   },
   "file_extension": ".py",
   "mimetype": "text/x-python",
   "name": "python",
   "nbconvert_exporter": "python",
   "pygments_lexer": "ipython3",
   "version": "3.7.12"
  },
  "papermill": {
   "default_parameters": {},
   "duration": 38.363516,
   "end_time": "2023-04-02T17:00:33.806460",
   "environment_variables": {},
   "exception": null,
   "input_path": "__notebook__.ipynb",
   "output_path": "__notebook__.ipynb",
   "parameters": {},
   "start_time": "2023-04-02T16:59:55.442944",
   "version": "2.3.4"
  }
 },
 "nbformat": 4,
 "nbformat_minor": 5
}
